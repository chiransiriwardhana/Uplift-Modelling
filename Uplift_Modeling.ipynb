{
 "cells": [
  {
   "cell_type": "markdown",
   "metadata": {},
   "source": [
    "# **UPLIFT MODELING**\n",
    "\n",
    "\n",
    "*   Uplift models are designed to determine the incremental impact of a treatment or intervention.\n",
    "*   Unlike standard response models, which simply predict the likelihood of an event (e.g., making a purchase) after an intervention (e.g., seeing an advertisement), uplift models gauge the incremental change in that likelihood due to the intervention itself.\n",
    "*   For instance, while a traditional response model might tell us that a person is inclined to make a purchase after viewing an advertisement, it doesn’t differentiate between those who were already predisposed to purchase without the ad and those truly influenced by it.\n",
    "*   In contrast, uplift models specifically measure the boost in probability of the event resulting directly from the intervention, helping businesses to discern the genuine effect of their actions.\n",
    "\n",
    "\n"
   ]
  },
  {
   "cell_type": "markdown",
   "metadata": {},
   "source": [
    "# **About the Data**\n",
    "\n",
    "**clientID**: Unique ID to identify customer\n",
    "\n",
    "**gender**: Gender of customer\n",
    "\n",
    "**age**: Age of customer\n",
    "\n",
    "**zipCodeCat**: Zipcode category of customer (Urban/ Suburban/ Rural)\n",
    "\n",
    "**isReferral**: Indication to whether the customer\n",
    "was acquired via a referral channel\n",
    "\n",
    "**salesChannel**: channels used by customer (Phone/ Web/ MultiChannel)\n",
    "\n",
    "**totalAmountSpend**: Total value of historical\n",
    "purchases during the last year\n",
    "\n",
    "**daysSinceLastPurchase**: Days since last purchase\n",
    "\n",
    "**usedDiscount**: Indicates if the customer used a discount before\n",
    "\n",
    "**usedBOGO**: Indicates if the customer used a buy one get one offer before\n",
    "\n",
    "**treatment**: Offers sent to the customers\n",
    "\n",
    "**visit**: Indicates whether the customer visted the\n",
    "website/app after offer was sent (2 week period)\n",
    "\n",
    "**conversion**: Indicates customer conversion (2 week period)\n",
    "\n",
    "**spend**: Indicates amount spend  (2 week period)"
   ]
  },
  {
   "cell_type": "code",
   "execution_count": 3,
   "metadata": {},
   "outputs": [
    {
     "data": {
      "text/html": [
       "<div>\n",
       "<style scoped>\n",
       "    .dataframe tbody tr th:only-of-type {\n",
       "        vertical-align: middle;\n",
       "    }\n",
       "\n",
       "    .dataframe tbody tr th {\n",
       "        vertical-align: top;\n",
       "    }\n",
       "\n",
       "    .dataframe thead th {\n",
       "        text-align: right;\n",
       "    }\n",
       "</style>\n",
       "<table border=\"1\" class=\"dataframe\">\n",
       "  <thead>\n",
       "    <tr style=\"text-align: right;\">\n",
       "      <th></th>\n",
       "      <th>clientID</th>\n",
       "      <th>gender</th>\n",
       "      <th>age</th>\n",
       "      <th>zipCodeCat</th>\n",
       "      <th>isReferral</th>\n",
       "      <th>salesChannel</th>\n",
       "      <th>totalAmountSpend</th>\n",
       "      <th>daysSinceLastPurchase</th>\n",
       "      <th>usedDiscount</th>\n",
       "      <th>usedBOGO</th>\n",
       "      <th>treatment</th>\n",
       "      <th>visit</th>\n",
       "      <th>conversion</th>\n",
       "      <th>spend</th>\n",
       "    </tr>\n",
       "  </thead>\n",
       "  <tbody>\n",
       "    <tr>\n",
       "      <th>0</th>\n",
       "      <td>004dc888-f528-49c4-ae94-f3ea4f2a65c7</td>\n",
       "      <td>Male</td>\n",
       "      <td>49</td>\n",
       "      <td>Surburban</td>\n",
       "      <td>No</td>\n",
       "      <td>Phone</td>\n",
       "      <td>142.44</td>\n",
       "      <td>282</td>\n",
       "      <td>1</td>\n",
       "      <td>0</td>\n",
       "      <td>BOGO</td>\n",
       "      <td>1</td>\n",
       "      <td>0</td>\n",
       "      <td>0.0</td>\n",
       "    </tr>\n",
       "    <tr>\n",
       "      <th>1</th>\n",
       "      <td>b74ce820-9372-4b2e-ad0f-8eb9f9fe582c</td>\n",
       "      <td>Female</td>\n",
       "      <td>68</td>\n",
       "      <td>Rural</td>\n",
       "      <td>Yes</td>\n",
       "      <td>Web</td>\n",
       "      <td>329.08</td>\n",
       "      <td>162</td>\n",
       "      <td>1</td>\n",
       "      <td>1</td>\n",
       "      <td>No Offer</td>\n",
       "      <td>1</td>\n",
       "      <td>0</td>\n",
       "      <td>0.0</td>\n",
       "    </tr>\n",
       "    <tr>\n",
       "      <th>2</th>\n",
       "      <td>e55fb273-e422-4da0-bf2c-b30982ce8484</td>\n",
       "      <td>Female</td>\n",
       "      <td>52</td>\n",
       "      <td>Surburban</td>\n",
       "      <td>Yes</td>\n",
       "      <td>Web</td>\n",
       "      <td>180.65</td>\n",
       "      <td>183</td>\n",
       "      <td>0</td>\n",
       "      <td>1</td>\n",
       "      <td>BOGO</td>\n",
       "      <td>1</td>\n",
       "      <td>0</td>\n",
       "      <td>0.0</td>\n",
       "    </tr>\n",
       "    <tr>\n",
       "      <th>3</th>\n",
       "      <td>81646989-a0af-4e28-9571-d2a6b77b493a</td>\n",
       "      <td>Female</td>\n",
       "      <td>60</td>\n",
       "      <td>Rural</td>\n",
       "      <td>Yes</td>\n",
       "      <td>Web</td>\n",
       "      <td>675.83</td>\n",
       "      <td>267</td>\n",
       "      <td>1</td>\n",
       "      <td>0</td>\n",
       "      <td>Discount</td>\n",
       "      <td>0</td>\n",
       "      <td>0</td>\n",
       "      <td>0.0</td>\n",
       "    </tr>\n",
       "    <tr>\n",
       "      <th>4</th>\n",
       "      <td>e1cbdac4-cc40-4a97-b5c3-55a342ae210a</td>\n",
       "      <td>Male</td>\n",
       "      <td>45</td>\n",
       "      <td>Urban</td>\n",
       "      <td>No</td>\n",
       "      <td>Web</td>\n",
       "      <td>45.34</td>\n",
       "      <td>41</td>\n",
       "      <td>1</td>\n",
       "      <td>0</td>\n",
       "      <td>BOGO</td>\n",
       "      <td>0</td>\n",
       "      <td>0</td>\n",
       "      <td>0.0</td>\n",
       "    </tr>\n",
       "  </tbody>\n",
       "</table>\n",
       "</div>"
      ],
      "text/plain": [
       "                               clientID  gender  age zipCodeCat isReferral  \\\n",
       "0  004dc888-f528-49c4-ae94-f3ea4f2a65c7    Male   49  Surburban         No   \n",
       "1  b74ce820-9372-4b2e-ad0f-8eb9f9fe582c  Female   68      Rural        Yes   \n",
       "2  e55fb273-e422-4da0-bf2c-b30982ce8484  Female   52  Surburban        Yes   \n",
       "3  81646989-a0af-4e28-9571-d2a6b77b493a  Female   60      Rural        Yes   \n",
       "4  e1cbdac4-cc40-4a97-b5c3-55a342ae210a    Male   45      Urban         No   \n",
       "\n",
       "  salesChannel  totalAmountSpend  daysSinceLastPurchase  usedDiscount  \\\n",
       "0        Phone            142.44                    282             1   \n",
       "1          Web            329.08                    162             1   \n",
       "2          Web            180.65                    183             0   \n",
       "3          Web            675.83                    267             1   \n",
       "4          Web             45.34                     41             1   \n",
       "\n",
       "   usedBOGO treatment  visit  conversion  spend  \n",
       "0         0      BOGO      1           0    0.0  \n",
       "1         1  No Offer      1           0    0.0  \n",
       "2         1      BOGO      1           0    0.0  \n",
       "3         0  Discount      0           0    0.0  \n",
       "4         0      BOGO      0           0    0.0  "
      ]
     },
     "execution_count": 3,
     "metadata": {},
     "output_type": "execute_result"
    }
   ],
   "source": [
    "# Import data\n",
    "import pandas as pd\n",
    "df_data = pd.read_csv('data/customer_data.csv')\n",
    "df_data = df_data.iloc[:5000]  ##### I trained this model only for 5000 data due to hughe computation power.\n",
    "df_model = df_data.copy()\n",
    "df_model = df_model.iloc[:5000]\n",
    "df_model.head()"
   ]
  },
  {
   "cell_type": "markdown",
   "metadata": {},
   "source": [
    "# **Requirement**\n",
    "\n",
    "1. Can we model the uplift (conversion) of customers?\n",
    "2. Can we segment customers in a meaningful way?\n",
    "\n",
    "* Clearly explain the steps & assumptions (using markdown etc.) you took while solving the above problems."
   ]
  },
  {
   "cell_type": "markdown",
   "metadata": {},
   "source": [
    "# importing necessary modules"
   ]
  },
  {
   "cell_type": "code",
   "execution_count": 4,
   "metadata": {},
   "outputs": [],
   "source": [
    "import numpy as np\n",
    "import pandas as pd\n",
    "import matplotlib.pyplot as plt\n",
    "from matplotlib import ticker\n",
    "import seaborn as sns\n",
    "import matplotlib as mpl"
   ]
  },
  {
   "cell_type": "markdown",
   "metadata": {},
   "source": [
    "# Exploring Data"
   ]
  },
  {
   "cell_type": "code",
   "execution_count": 5,
   "metadata": {},
   "outputs": [
    {
     "data": {
      "text/html": [
       "<div>\n",
       "<style scoped>\n",
       "    .dataframe tbody tr th:only-of-type {\n",
       "        vertical-align: middle;\n",
       "    }\n",
       "\n",
       "    .dataframe tbody tr th {\n",
       "        vertical-align: top;\n",
       "    }\n",
       "\n",
       "    .dataframe thead th {\n",
       "        text-align: right;\n",
       "    }\n",
       "</style>\n",
       "<table border=\"1\" class=\"dataframe\">\n",
       "  <thead>\n",
       "    <tr style=\"text-align: right;\">\n",
       "      <th></th>\n",
       "      <th>age</th>\n",
       "      <th>totalAmountSpend</th>\n",
       "      <th>daysSinceLastPurchase</th>\n",
       "      <th>usedDiscount</th>\n",
       "      <th>usedBOGO</th>\n",
       "      <th>visit</th>\n",
       "      <th>conversion</th>\n",
       "      <th>spend</th>\n",
       "    </tr>\n",
       "  </thead>\n",
       "  <tbody>\n",
       "    <tr>\n",
       "      <th>count</th>\n",
       "      <td>5000.000000</td>\n",
       "      <td>4987.000000</td>\n",
       "      <td>5000.000000</td>\n",
       "      <td>5000.000000</td>\n",
       "      <td>5000.000000</td>\n",
       "      <td>5000.000000</td>\n",
       "      <td>5000.000000</td>\n",
       "      <td>5000.000000</td>\n",
       "    </tr>\n",
       "    <tr>\n",
       "      <th>mean</th>\n",
       "      <td>52.169200</td>\n",
       "      <td>243.583603</td>\n",
       "      <td>160.717200</td>\n",
       "      <td>0.557200</td>\n",
       "      <td>0.548800</td>\n",
       "      <td>0.574200</td>\n",
       "      <td>0.142600</td>\n",
       "      <td>2.047556</td>\n",
       "    </tr>\n",
       "    <tr>\n",
       "      <th>std</th>\n",
       "      <td>13.828102</td>\n",
       "      <td>260.010533</td>\n",
       "      <td>106.078208</td>\n",
       "      <td>0.496767</td>\n",
       "      <td>0.497663</td>\n",
       "      <td>0.494513</td>\n",
       "      <td>0.349699</td>\n",
       "      <td>7.603975</td>\n",
       "    </tr>\n",
       "    <tr>\n",
       "      <th>min</th>\n",
       "      <td>18.000000</td>\n",
       "      <td>29.990000</td>\n",
       "      <td>1.000000</td>\n",
       "      <td>0.000000</td>\n",
       "      <td>0.000000</td>\n",
       "      <td>0.000000</td>\n",
       "      <td>0.000000</td>\n",
       "      <td>0.000000</td>\n",
       "    </tr>\n",
       "    <tr>\n",
       "      <th>25%</th>\n",
       "      <td>44.000000</td>\n",
       "      <td>65.405000</td>\n",
       "      <td>60.000000</td>\n",
       "      <td>0.000000</td>\n",
       "      <td>0.000000</td>\n",
       "      <td>0.000000</td>\n",
       "      <td>0.000000</td>\n",
       "      <td>0.000000</td>\n",
       "    </tr>\n",
       "    <tr>\n",
       "      <th>50%</th>\n",
       "      <td>53.000000</td>\n",
       "      <td>158.620000</td>\n",
       "      <td>155.000000</td>\n",
       "      <td>1.000000</td>\n",
       "      <td>1.000000</td>\n",
       "      <td>1.000000</td>\n",
       "      <td>0.000000</td>\n",
       "      <td>0.000000</td>\n",
       "    </tr>\n",
       "    <tr>\n",
       "      <th>75%</th>\n",
       "      <td>68.000000</td>\n",
       "      <td>324.445000</td>\n",
       "      <td>262.000000</td>\n",
       "      <td>1.000000</td>\n",
       "      <td>1.000000</td>\n",
       "      <td>1.000000</td>\n",
       "      <td>0.000000</td>\n",
       "      <td>0.000000</td>\n",
       "    </tr>\n",
       "    <tr>\n",
       "      <th>max</th>\n",
       "      <td>68.000000</td>\n",
       "      <td>3345.930000</td>\n",
       "      <td>360.000000</td>\n",
       "      <td>1.000000</td>\n",
       "      <td>1.000000</td>\n",
       "      <td>1.000000</td>\n",
       "      <td>1.000000</td>\n",
       "      <td>100.820000</td>\n",
       "    </tr>\n",
       "  </tbody>\n",
       "</table>\n",
       "</div>"
      ],
      "text/plain": [
       "               age  totalAmountSpend  daysSinceLastPurchase  usedDiscount  \\\n",
       "count  5000.000000       4987.000000            5000.000000   5000.000000   \n",
       "mean     52.169200        243.583603             160.717200      0.557200   \n",
       "std      13.828102        260.010533             106.078208      0.496767   \n",
       "min      18.000000         29.990000               1.000000      0.000000   \n",
       "25%      44.000000         65.405000              60.000000      0.000000   \n",
       "50%      53.000000        158.620000             155.000000      1.000000   \n",
       "75%      68.000000        324.445000             262.000000      1.000000   \n",
       "max      68.000000       3345.930000             360.000000      1.000000   \n",
       "\n",
       "          usedBOGO        visit   conversion        spend  \n",
       "count  5000.000000  5000.000000  5000.000000  5000.000000  \n",
       "mean      0.548800     0.574200     0.142600     2.047556  \n",
       "std       0.497663     0.494513     0.349699     7.603975  \n",
       "min       0.000000     0.000000     0.000000     0.000000  \n",
       "25%       0.000000     0.000000     0.000000     0.000000  \n",
       "50%       1.000000     1.000000     0.000000     0.000000  \n",
       "75%       1.000000     1.000000     0.000000     0.000000  \n",
       "max       1.000000     1.000000     1.000000   100.820000  "
      ]
     },
     "execution_count": 5,
     "metadata": {},
     "output_type": "execute_result"
    }
   ],
   "source": [
    "df_model.describe()"
   ]
  },
  {
   "cell_type": "code",
   "execution_count": 6,
   "metadata": {},
   "outputs": [
    {
     "name": "stderr",
     "output_type": "stream",
     "text": [
      "/var/folders/v0/j1t93gnd49n6rh85bd5wpq8h0000gn/T/ipykernel_5360/294362160.py:2: DeprecationWarning: `np.object` is a deprecated alias for the builtin `object`. To silence this warning, use `object` by itself. Doing this will not modify any behavior and is safe. \n",
      "Deprecated in NumPy 1.20; for more details and guidance: https://numpy.org/devdocs/release/1.20.0-notes.html#deprecations\n",
      "  df_model.describe(include=np.object)\n"
     ]
    },
    {
     "data": {
      "text/html": [
       "<div>\n",
       "<style scoped>\n",
       "    .dataframe tbody tr th:only-of-type {\n",
       "        vertical-align: middle;\n",
       "    }\n",
       "\n",
       "    .dataframe tbody tr th {\n",
       "        vertical-align: top;\n",
       "    }\n",
       "\n",
       "    .dataframe thead th {\n",
       "        text-align: right;\n",
       "    }\n",
       "</style>\n",
       "<table border=\"1\" class=\"dataframe\">\n",
       "  <thead>\n",
       "    <tr style=\"text-align: right;\">\n",
       "      <th></th>\n",
       "      <th>clientID</th>\n",
       "      <th>gender</th>\n",
       "      <th>zipCodeCat</th>\n",
       "      <th>isReferral</th>\n",
       "      <th>salesChannel</th>\n",
       "      <th>treatment</th>\n",
       "    </tr>\n",
       "  </thead>\n",
       "  <tbody>\n",
       "    <tr>\n",
       "      <th>count</th>\n",
       "      <td>4995</td>\n",
       "      <td>5000</td>\n",
       "      <td>4991</td>\n",
       "      <td>5000</td>\n",
       "      <td>5000</td>\n",
       "      <td>5000</td>\n",
       "    </tr>\n",
       "    <tr>\n",
       "      <th>unique</th>\n",
       "      <td>4995</td>\n",
       "      <td>2</td>\n",
       "      <td>3</td>\n",
       "      <td>2</td>\n",
       "      <td>3</td>\n",
       "      <td>3</td>\n",
       "    </tr>\n",
       "    <tr>\n",
       "      <th>top</th>\n",
       "      <td>004dc888-f528-49c4-ae94-f3ea4f2a65c7</td>\n",
       "      <td>Male</td>\n",
       "      <td>Surburban</td>\n",
       "      <td>Yes</td>\n",
       "      <td>Web</td>\n",
       "      <td>BOGO</td>\n",
       "    </tr>\n",
       "    <tr>\n",
       "      <th>freq</th>\n",
       "      <td>1</td>\n",
       "      <td>2536</td>\n",
       "      <td>2238</td>\n",
       "      <td>2518</td>\n",
       "      <td>2208</td>\n",
       "      <td>1697</td>\n",
       "    </tr>\n",
       "  </tbody>\n",
       "</table>\n",
       "</div>"
      ],
      "text/plain": [
       "                                    clientID gender zipCodeCat isReferral  \\\n",
       "count                                   4995   5000       4991       5000   \n",
       "unique                                  4995      2          3          2   \n",
       "top     004dc888-f528-49c4-ae94-f3ea4f2a65c7   Male  Surburban        Yes   \n",
       "freq                                       1   2536       2238       2518   \n",
       "\n",
       "       salesChannel treatment  \n",
       "count          5000      5000  \n",
       "unique            3         3  \n",
       "top             Web      BOGO  \n",
       "freq           2208      1697  "
      ]
     },
     "execution_count": 6,
     "metadata": {},
     "output_type": "execute_result"
    }
   ],
   "source": [
    "import numpy as np\n",
    "df_model.describe(include=np.object)"
   ]
  },
  {
   "cell_type": "code",
   "execution_count": 7,
   "metadata": {},
   "outputs": [
    {
     "name": "stdout",
     "output_type": "stream",
     "text": [
      "----\n",
      "004dc888-f528-49c4-ae94-f3ea4f2a65c7    1\n",
      "09393ab9-a48e-44ec-933a-36f3fdd16e3e    1\n",
      "69715761-e77f-429b-b2dc-f69d0a5a38a2    1\n",
      "35c086a7-1cc8-4863-a1ce-dd1f055451f8    1\n",
      "a3060123-73a6-4230-be5c-ded767ac5015    1\n",
      "                                       ..\n",
      "6d1037ce-2167-4067-8624-2860f1f6cd70    1\n",
      "eec78595-09f3-432d-a104-bc7e68df6292    1\n",
      "4c0b6214-02b0-42ef-b51f-b978adc0f0fb    1\n",
      "f07cebb1-cef6-499f-a659-de440624c8a5    1\n",
      "02230160-e796-4cac-9766-3cd9677da310    1\n",
      "Name: clientID, Length: 4995, dtype: int64\n",
      "----\n",
      "Male      2536\n",
      "Female    2464\n",
      "Name: gender, dtype: int64\n",
      "----\n",
      "Surburban    2238\n",
      "Urban        2044\n",
      "Rural         709\n",
      "Name: zipCodeCat, dtype: int64\n",
      "----\n",
      "Yes    2518\n",
      "No     2482\n",
      "Name: isReferral, dtype: int64\n",
      "----\n",
      "Web             2208\n",
      "Phone           2202\n",
      "Multichannel     590\n",
      "Name: salesChannel, dtype: int64\n",
      "----\n",
      "BOGO        1697\n",
      "No Offer    1660\n",
      "Discount    1643\n",
      "Name: treatment, dtype: int64\n"
     ]
    }
   ],
   "source": [
    "cat_features = [col for col in df_model.columns if df_model[col].dtype == 'object']\n",
    "for c in cat_features:\n",
    "    print('----')\n",
    "    print(df_model[c].value_counts())"
   ]
  },
  {
   "cell_type": "code",
   "execution_count": 8,
   "metadata": {},
   "outputs": [],
   "source": [
    "def grab_col_names(dataframe, cat_th=10, car_th=20):\n",
    "\n",
    "    # cat_cols, cat_but_car\n",
    "    cat_cols = [col for col in dataframe.columns if dataframe[col].dtypes == \"O\"]\n",
    "    num_but_cat = [col for col in dataframe.columns if dataframe[col].nunique() < cat_th and\n",
    "                   dataframe[col].dtypes != \"O\"]\n",
    "    cat_but_car = [col for col in dataframe.columns if dataframe[col].nunique() > car_th and\n",
    "                   dataframe[col].dtypes == \"O\"]\n",
    "    cat_cols = cat_cols + num_but_cat\n",
    "    cat_cols = [col for col in cat_cols if col not in cat_but_car]\n",
    "\n",
    "    # num_cols\n",
    "    num_cols = [col for col in dataframe.columns if dataframe[col].dtypes != \"O\"]\n",
    "    num_cols = [col for col in num_cols if col not in num_but_cat]\n",
    "\n",
    "    print(f\"Observations: {dataframe.shape[0]}\")\n",
    "    print(f\"Variables: {dataframe.shape[1]}\")\n",
    "    print(f'num_cols: {len(num_cols)}')\n",
    "    print(f'cat_but_car: {len(cat_but_car)}')\n",
    "    return cat_cols, num_cols, cat_but_car"
   ]
  },
  {
   "cell_type": "code",
   "execution_count": 9,
   "metadata": {},
   "outputs": [
    {
     "name": "stdout",
     "output_type": "stream",
     "text": [
      "Observations: 5000\n",
      "Variables: 14\n",
      "num_cols: 4\n",
      "cat_but_car: 1\n"
     ]
    }
   ],
   "source": [
    "cat_cols, num_cols, cat_but_car=grab_col_names(df_model)"
   ]
  },
  {
   "cell_type": "code",
   "execution_count": 10,
   "metadata": {},
   "outputs": [],
   "source": [
    "def cat_summary(dataframe, col_name, plot=False):\n",
    "    mpl.rcParams['figure.dpi'] = 75 ## <===== for see figures in small size in vs code. Since i used vs code for coding.\n",
    "    if plot:\n",
    "        colors = [\"#202240\",\"#F5801A\",\"#808080\",\"#838496\"]\n",
    "        # sns.set_palette(sns.color_palette(colors))\n",
    "        sns.countplot(x=dataframe[col_name], data=dataframe, palette=colors)\n",
    "        plt.show()"
   ]
  },
  {
   "cell_type": "code",
   "execution_count": 11,
   "metadata": {},
   "outputs": [
    {
     "name": "stderr",
     "output_type": "stream",
     "text": [
      "/var/folders/v0/j1t93gnd49n6rh85bd5wpq8h0000gn/T/ipykernel_5360/2786472259.py:6: FutureWarning: \n",
      "\n",
      "Passing `palette` without assigning `hue` is deprecated and will be removed in v0.14.0. Assign the `x` variable to `hue` and set `legend=False` for the same effect.\n",
      "\n",
      "  sns.countplot(x=dataframe[col_name], data=dataframe, palette=colors)\n",
      "/var/folders/v0/j1t93gnd49n6rh85bd5wpq8h0000gn/T/ipykernel_5360/2786472259.py:6: UserWarning: The palette list has more values (4) than needed (2), which may not be intended.\n",
      "  sns.countplot(x=dataframe[col_name], data=dataframe, palette=colors)\n"
     ]
    },
    {
     "data": {
      "image/png": "[encoded data removed]",
      "text/plain": [
       "<Figure size 480x360 with 1 Axes>"
      ]
     },
     "metadata": {},
     "output_type": "display_data"
    },
    {
     "name": "stderr",
     "output_type": "stream",
     "text": [
      "/var/folders/v0/j1t93gnd49n6rh85bd5wpq8h0000gn/T/ipykernel_5360/2786472259.py:6: FutureWarning: \n",
      "\n",
      "Passing `palette` without assigning `hue` is deprecated and will be removed in v0.14.0. Assign the `x` variable to `hue` and set `legend=False` for the same effect.\n",
      "\n",
      "  sns.countplot(x=dataframe[col_name], data=dataframe, palette=colors)\n",
      "/var/folders/v0/j1t93gnd49n6rh85bd5wpq8h0000gn/T/ipykernel_5360/2786472259.py:6: UserWarning: \n",
      "The palette list has fewer values (4) than needed (44) and will cycle, which may produce an uninterpretable plot.\n",
      "  sns.countplot(x=dataframe[col_name], data=dataframe, palette=colors)\n"
     ]
    },
    {
     "data": {
      "image/png": "[encoded data removed]",
      "text/plain": [
       "<Figure size 480x360 with 1 Axes>"
      ]
     },
     "metadata": {},
     "output_type": "display_data"
    },
    {
     "name": "stderr",
     "output_type": "stream",
     "text": [
      "/var/folders/v0/j1t93gnd49n6rh85bd5wpq8h0000gn/T/ipykernel_5360/2786472259.py:6: FutureWarning: \n",
      "\n",
      "Passing `palette` without assigning `hue` is deprecated and will be removed in v0.14.0. Assign the `x` variable to `hue` and set `legend=False` for the same effect.\n",
      "\n",
      "  sns.countplot(x=dataframe[col_name], data=dataframe, palette=colors)\n",
      "/var/folders/v0/j1t93gnd49n6rh85bd5wpq8h0000gn/T/ipykernel_5360/2786472259.py:6: UserWarning: The palette list has more values (4) than needed (3), which may not be intended.\n",
      "  sns.countplot(x=dataframe[col_name], data=dataframe, palette=colors)\n"
     ]
    },
    {
     "data": {
      "image/png": "[encoded data removed]",
      "text/plain": [
       "<Figure size 480x360 with 1 Axes>"
      ]
     },
     "metadata": {},
     "output_type": "display_data"
    },
    {
     "name": "stderr",
     "output_type": "stream",
     "text": [
      "/var/folders/v0/j1t93gnd49n6rh85bd5wpq8h0000gn/T/ipykernel_5360/2786472259.py:6: FutureWarning: \n",
      "\n",
      "Passing `palette` without assigning `hue` is deprecated and will be removed in v0.14.0. Assign the `x` variable to `hue` and set `legend=False` for the same effect.\n",
      "\n",
      "  sns.countplot(x=dataframe[col_name], data=dataframe, palette=colors)\n",
      "/var/folders/v0/j1t93gnd49n6rh85bd5wpq8h0000gn/T/ipykernel_5360/2786472259.py:6: UserWarning: The palette list has more values (4) than needed (2), which may not be intended.\n",
      "  sns.countplot(x=dataframe[col_name], data=dataframe, palette=colors)\n"
     ]
    },
    {
     "data": {
      "image/png": "[encoded data removed]",
      "text/plain": [
       "<Figure size 480x360 with 1 Axes>"
      ]
     },
     "metadata": {},
     "output_type": "display_data"
    },
    {
     "name": "stderr",
     "output_type": "stream",
     "text": [
      "/var/folders/v0/j1t93gnd49n6rh85bd5wpq8h0000gn/T/ipykernel_5360/2786472259.py:6: FutureWarning: \n",
      "\n",
      "Passing `palette` without assigning `hue` is deprecated and will be removed in v0.14.0. Assign the `x` variable to `hue` and set `legend=False` for the same effect.\n",
      "\n",
      "  sns.countplot(x=dataframe[col_name], data=dataframe, palette=colors)\n",
      "/var/folders/v0/j1t93gnd49n6rh85bd5wpq8h0000gn/T/ipykernel_5360/2786472259.py:6: UserWarning: The palette list has more values (4) than needed (3), which may not be intended.\n",
      "  sns.countplot(x=dataframe[col_name], data=dataframe, palette=colors)\n"
     ]
    },
    {
     "data": {
      "image/png": "[encoded data removed]",
      "text/plain": [
       "<Figure size 480x360 with 1 Axes>"
      ]
     },
     "metadata": {},
     "output_type": "display_data"
    },
    {
     "name": "stderr",
     "output_type": "stream",
     "text": [
      "/var/folders/v0/j1t93gnd49n6rh85bd5wpq8h0000gn/T/ipykernel_5360/2786472259.py:6: FutureWarning: \n",
      "\n",
      "Passing `palette` without assigning `hue` is deprecated and will be removed in v0.14.0. Assign the `x` variable to `hue` and set `legend=False` for the same effect.\n",
      "\n",
      "  sns.countplot(x=dataframe[col_name], data=dataframe, palette=colors)\n",
      "/var/folders/v0/j1t93gnd49n6rh85bd5wpq8h0000gn/T/ipykernel_5360/2786472259.py:6: UserWarning: The palette list has more values (4) than needed (2), which may not be intended.\n",
      "  sns.countplot(x=dataframe[col_name], data=dataframe, palette=colors)\n"
     ]
    },
    {
     "data": {
      "image/png": "[encoded data removed]",
      "text/plain": [
       "<Figure size 480x360 with 1 Axes>"
      ]
     },
     "metadata": {},
     "output_type": "display_data"
    },
    {
     "name": "stderr",
     "output_type": "stream",
     "text": [
      "/var/folders/v0/j1t93gnd49n6rh85bd5wpq8h0000gn/T/ipykernel_5360/2786472259.py:6: FutureWarning: \n",
      "\n",
      "Passing `palette` without assigning `hue` is deprecated and will be removed in v0.14.0. Assign the `x` variable to `hue` and set `legend=False` for the same effect.\n",
      "\n",
      "  sns.countplot(x=dataframe[col_name], data=dataframe, palette=colors)\n",
      "/var/folders/v0/j1t93gnd49n6rh85bd5wpq8h0000gn/T/ipykernel_5360/2786472259.py:6: UserWarning: The palette list has more values (4) than needed (2), which may not be intended.\n",
      "  sns.countplot(x=dataframe[col_name], data=dataframe, palette=colors)\n"
     ]
    },
    {
     "data": {
      "image/png": "[encoded data removed]",
      "text/plain": [
       "<Figure size 480x360 with 1 Axes>"
      ]
     },
     "metadata": {},
     "output_type": "display_data"
    },
    {
     "name": "stderr",
     "output_type": "stream",
     "text": [
      "/var/folders/v0/j1t93gnd49n6rh85bd5wpq8h0000gn/T/ipykernel_5360/2786472259.py:6: FutureWarning: \n",
      "\n",
      "Passing `palette` without assigning `hue` is deprecated and will be removed in v0.14.0. Assign the `x` variable to `hue` and set `legend=False` for the same effect.\n",
      "\n",
      "  sns.countplot(x=dataframe[col_name], data=dataframe, palette=colors)\n",
      "/var/folders/v0/j1t93gnd49n6rh85bd5wpq8h0000gn/T/ipykernel_5360/2786472259.py:6: UserWarning: The palette list has more values (4) than needed (3), which may not be intended.\n",
      "  sns.countplot(x=dataframe[col_name], data=dataframe, palette=colors)\n"
     ]
    },
    {
     "data": {
      "image/png": "[encoded data removed]",
      "text/plain": [
       "<Figure size 480x360 with 1 Axes>"
      ]
     },
     "metadata": {},
     "output_type": "display_data"
    },
    {
     "name": "stderr",
     "output_type": "stream",
     "text": [
      "/var/folders/v0/j1t93gnd49n6rh85bd5wpq8h0000gn/T/ipykernel_5360/2786472259.py:6: FutureWarning: \n",
      "\n",
      "Passing `palette` without assigning `hue` is deprecated and will be removed in v0.14.0. Assign the `x` variable to `hue` and set `legend=False` for the same effect.\n",
      "\n",
      "  sns.countplot(x=dataframe[col_name], data=dataframe, palette=colors)\n",
      "/var/folders/v0/j1t93gnd49n6rh85bd5wpq8h0000gn/T/ipykernel_5360/2786472259.py:6: UserWarning: The palette list has more values (4) than needed (2), which may not be intended.\n",
      "  sns.countplot(x=dataframe[col_name], data=dataframe, palette=colors)\n"
     ]
    },
    {
     "data": {
      "image/png": "[encoded data removed]",
      "text/plain": [
       "<Figure size 480x360 with 1 Axes>"
      ]
     },
     "metadata": {},
     "output_type": "display_data"
    },
    {
     "name": "stderr",
     "output_type": "stream",
     "text": [
      "/var/folders/v0/j1t93gnd49n6rh85bd5wpq8h0000gn/T/ipykernel_5360/2786472259.py:6: FutureWarning: \n",
      "\n",
      "Passing `palette` without assigning `hue` is deprecated and will be removed in v0.14.0. Assign the `x` variable to `hue` and set `legend=False` for the same effect.\n",
      "\n",
      "  sns.countplot(x=dataframe[col_name], data=dataframe, palette=colors)\n",
      "/var/folders/v0/j1t93gnd49n6rh85bd5wpq8h0000gn/T/ipykernel_5360/2786472259.py:6: UserWarning: The palette list has more values (4) than needed (2), which may not be intended.\n",
      "  sns.countplot(x=dataframe[col_name], data=dataframe, palette=colors)\n"
     ]
    },
    {
     "data": {
      "image/png": "[encoded data removed]",
      "text/plain": [
       "<Figure size 480x360 with 1 Axes>"
      ]
     },
     "metadata": {},
     "output_type": "display_data"
    }
   ],
   "source": [
    "for col in ['gender','age','zipCodeCat','isReferral', 'salesChannel','usedDiscount','usedBOGO','treatment','visit','conversion']:\n",
    "    cat_summary(df_data, col, plot=True)"
   ]
  },
  {
   "cell_type": "markdown",
   "metadata": {},
   "source": [
    "# Preprocessing"
   ]
  },
  {
   "cell_type": "code",
   "execution_count": 12,
   "metadata": {},
   "outputs": [],
   "source": [
    "# Rename target column\n",
    "df_model = df_model.rename(columns={'conversion': 'target'})\n",
    "# Rename & Label encode treatment column\n",
    "df_model = df_model.rename(columns={'offer': 'treatment'})\n",
    "df_model.treatment = df_model.treatment.map({'No Offer': 0, 'BOGO': -1, 'Discount': 1})"
   ]
  },
  {
   "cell_type": "code",
   "execution_count": 13,
   "metadata": {},
   "outputs": [
    {
     "data": {
      "text/plain": [
       "-1    1697\n",
       " 0    1660\n",
       " 1    1643\n",
       "Name: treatment, dtype: int64"
      ]
     },
     "execution_count": 13,
     "metadata": {},
     "output_type": "execute_result"
    }
   ],
   "source": [
    "df_model.treatment.value_counts()"
   ]
  },
  {
   "cell_type": "code",
   "execution_count": 14,
   "metadata": {},
   "outputs": [
    {
     "data": {
      "text/plain": [
       "0    4287\n",
       "1     713\n",
       "Name: target, dtype: int64"
      ]
     },
     "execution_count": 14,
     "metadata": {},
     "output_type": "execute_result"
    }
   ],
   "source": [
    "df_model.target.value_counts()"
   ]
  },
  {
   "cell_type": "code",
   "execution_count": 15,
   "metadata": {},
   "outputs": [
    {
     "data": {
      "text/plain": [
       "array([-1,  0,  1])"
      ]
     },
     "execution_count": 15,
     "metadata": {},
     "output_type": "execute_result"
    }
   ],
   "source": [
    "df_model.treatment.unique()"
   ]
  },
  {
   "cell_type": "code",
   "execution_count": 16,
   "metadata": {},
   "outputs": [
    {
     "data": {
      "text/html": [
       "<div>\n",
       "<style scoped>\n",
       "    .dataframe tbody tr th:only-of-type {\n",
       "        vertical-align: middle;\n",
       "    }\n",
       "\n",
       "    .dataframe tbody tr th {\n",
       "        vertical-align: top;\n",
       "    }\n",
       "\n",
       "    .dataframe thead th {\n",
       "        text-align: right;\n",
       "    }\n",
       "</style>\n",
       "<table border=\"1\" class=\"dataframe\">\n",
       "  <thead>\n",
       "    <tr style=\"text-align: right;\">\n",
       "      <th></th>\n",
       "      <th>clientID</th>\n",
       "      <th>gender</th>\n",
       "      <th>age</th>\n",
       "      <th>zipCodeCat</th>\n",
       "      <th>isReferral</th>\n",
       "      <th>salesChannel</th>\n",
       "      <th>totalAmountSpend</th>\n",
       "      <th>daysSinceLastPurchase</th>\n",
       "      <th>usedDiscount</th>\n",
       "      <th>usedBOGO</th>\n",
       "      <th>treatment</th>\n",
       "      <th>visit</th>\n",
       "      <th>target</th>\n",
       "      <th>spend</th>\n",
       "    </tr>\n",
       "  </thead>\n",
       "  <tbody>\n",
       "    <tr>\n",
       "      <th>0</th>\n",
       "      <td>004dc888-f528-49c4-ae94-f3ea4f2a65c7</td>\n",
       "      <td>Male</td>\n",
       "      <td>49</td>\n",
       "      <td>Surburban</td>\n",
       "      <td>No</td>\n",
       "      <td>Phone</td>\n",
       "      <td>142.44</td>\n",
       "      <td>282</td>\n",
       "      <td>1</td>\n",
       "      <td>0</td>\n",
       "      <td>-1</td>\n",
       "      <td>1</td>\n",
       "      <td>0</td>\n",
       "      <td>0.0</td>\n",
       "    </tr>\n",
       "    <tr>\n",
       "      <th>1</th>\n",
       "      <td>b74ce820-9372-4b2e-ad0f-8eb9f9fe582c</td>\n",
       "      <td>Female</td>\n",
       "      <td>68</td>\n",
       "      <td>Rural</td>\n",
       "      <td>Yes</td>\n",
       "      <td>Web</td>\n",
       "      <td>329.08</td>\n",
       "      <td>162</td>\n",
       "      <td>1</td>\n",
       "      <td>1</td>\n",
       "      <td>0</td>\n",
       "      <td>1</td>\n",
       "      <td>0</td>\n",
       "      <td>0.0</td>\n",
       "    </tr>\n",
       "    <tr>\n",
       "      <th>2</th>\n",
       "      <td>e55fb273-e422-4da0-bf2c-b30982ce8484</td>\n",
       "      <td>Female</td>\n",
       "      <td>52</td>\n",
       "      <td>Surburban</td>\n",
       "      <td>Yes</td>\n",
       "      <td>Web</td>\n",
       "      <td>180.65</td>\n",
       "      <td>183</td>\n",
       "      <td>0</td>\n",
       "      <td>1</td>\n",
       "      <td>-1</td>\n",
       "      <td>1</td>\n",
       "      <td>0</td>\n",
       "      <td>0.0</td>\n",
       "    </tr>\n",
       "    <tr>\n",
       "      <th>3</th>\n",
       "      <td>81646989-a0af-4e28-9571-d2a6b77b493a</td>\n",
       "      <td>Female</td>\n",
       "      <td>60</td>\n",
       "      <td>Rural</td>\n",
       "      <td>Yes</td>\n",
       "      <td>Web</td>\n",
       "      <td>675.83</td>\n",
       "      <td>267</td>\n",
       "      <td>1</td>\n",
       "      <td>0</td>\n",
       "      <td>1</td>\n",
       "      <td>0</td>\n",
       "      <td>0</td>\n",
       "      <td>0.0</td>\n",
       "    </tr>\n",
       "    <tr>\n",
       "      <th>4</th>\n",
       "      <td>e1cbdac4-cc40-4a97-b5c3-55a342ae210a</td>\n",
       "      <td>Male</td>\n",
       "      <td>45</td>\n",
       "      <td>Urban</td>\n",
       "      <td>No</td>\n",
       "      <td>Web</td>\n",
       "      <td>45.34</td>\n",
       "      <td>41</td>\n",
       "      <td>1</td>\n",
       "      <td>0</td>\n",
       "      <td>-1</td>\n",
       "      <td>0</td>\n",
       "      <td>0</td>\n",
       "      <td>0.0</td>\n",
       "    </tr>\n",
       "  </tbody>\n",
       "</table>\n",
       "</div>"
      ],
      "text/plain": [
       "                               clientID  gender  age zipCodeCat isReferral  \\\n",
       "0  004dc888-f528-49c4-ae94-f3ea4f2a65c7    Male   49  Surburban         No   \n",
       "1  b74ce820-9372-4b2e-ad0f-8eb9f9fe582c  Female   68      Rural        Yes   \n",
       "2  e55fb273-e422-4da0-bf2c-b30982ce8484  Female   52  Surburban        Yes   \n",
       "3  81646989-a0af-4e28-9571-d2a6b77b493a  Female   60      Rural        Yes   \n",
       "4  e1cbdac4-cc40-4a97-b5c3-55a342ae210a    Male   45      Urban         No   \n",
       "\n",
       "  salesChannel  totalAmountSpend  daysSinceLastPurchase  usedDiscount  \\\n",
       "0        Phone            142.44                    282             1   \n",
       "1          Web            329.08                    162             1   \n",
       "2          Web            180.65                    183             0   \n",
       "3          Web            675.83                    267             1   \n",
       "4          Web             45.34                     41             1   \n",
       "\n",
       "   usedBOGO  treatment  visit  target  spend  \n",
       "0         0         -1      1       0    0.0  \n",
       "1         1          0      1       0    0.0  \n",
       "2         1         -1      1       0    0.0  \n",
       "3         0          1      0       0    0.0  \n",
       "4         0         -1      0       0    0.0  "
      ]
     },
     "execution_count": 16,
     "metadata": {},
     "output_type": "execute_result"
    }
   ],
   "source": [
    "df_model.head()"
   ]
  },
  {
   "cell_type": "code",
   "execution_count": 17,
   "metadata": {},
   "outputs": [
    {
     "data": {
      "text/html": [
       "<div>\n",
       "<style scoped>\n",
       "    .dataframe tbody tr th:only-of-type {\n",
       "        vertical-align: middle;\n",
       "    }\n",
       "\n",
       "    .dataframe tbody tr th {\n",
       "        vertical-align: top;\n",
       "    }\n",
       "\n",
       "    .dataframe thead th {\n",
       "        text-align: right;\n",
       "    }\n",
       "</style>\n",
       "<table border=\"1\" class=\"dataframe\">\n",
       "  <thead>\n",
       "    <tr style=\"text-align: right;\">\n",
       "      <th></th>\n",
       "      <th>age</th>\n",
       "      <th>totalAmountSpend</th>\n",
       "      <th>daysSinceLastPurchase</th>\n",
       "      <th>usedDiscount</th>\n",
       "      <th>usedBOGO</th>\n",
       "      <th>treatment</th>\n",
       "      <th>visit</th>\n",
       "      <th>target</th>\n",
       "      <th>spend</th>\n",
       "      <th>clientID_000fc343-6b4c-49b3-9b4a-27cc6cf0335c</th>\n",
       "      <th>...</th>\n",
       "      <th>gender_Female</th>\n",
       "      <th>gender_Male</th>\n",
       "      <th>zipCodeCat_Rural</th>\n",
       "      <th>zipCodeCat_Surburban</th>\n",
       "      <th>zipCodeCat_Urban</th>\n",
       "      <th>isReferral_No</th>\n",
       "      <th>isReferral_Yes</th>\n",
       "      <th>salesChannel_Multichannel</th>\n",
       "      <th>salesChannel_Phone</th>\n",
       "      <th>salesChannel_Web</th>\n",
       "    </tr>\n",
       "  </thead>\n",
       "  <tbody>\n",
       "    <tr>\n",
       "      <th>0</th>\n",
       "      <td>49</td>\n",
       "      <td>142.44</td>\n",
       "      <td>282</td>\n",
       "      <td>1</td>\n",
       "      <td>0</td>\n",
       "      <td>-1</td>\n",
       "      <td>1</td>\n",
       "      <td>0</td>\n",
       "      <td>0.0</td>\n",
       "      <td>0</td>\n",
       "      <td>...</td>\n",
       "      <td>0</td>\n",
       "      <td>1</td>\n",
       "      <td>0</td>\n",
       "      <td>1</td>\n",
       "      <td>0</td>\n",
       "      <td>1</td>\n",
       "      <td>0</td>\n",
       "      <td>0</td>\n",
       "      <td>1</td>\n",
       "      <td>0</td>\n",
       "    </tr>\n",
       "    <tr>\n",
       "      <th>1</th>\n",
       "      <td>68</td>\n",
       "      <td>329.08</td>\n",
       "      <td>162</td>\n",
       "      <td>1</td>\n",
       "      <td>1</td>\n",
       "      <td>0</td>\n",
       "      <td>1</td>\n",
       "      <td>0</td>\n",
       "      <td>0.0</td>\n",
       "      <td>0</td>\n",
       "      <td>...</td>\n",
       "      <td>1</td>\n",
       "      <td>0</td>\n",
       "      <td>1</td>\n",
       "      <td>0</td>\n",
       "      <td>0</td>\n",
       "      <td>0</td>\n",
       "      <td>1</td>\n",
       "      <td>0</td>\n",
       "      <td>0</td>\n",
       "      <td>1</td>\n",
       "    </tr>\n",
       "    <tr>\n",
       "      <th>2</th>\n",
       "      <td>52</td>\n",
       "      <td>180.65</td>\n",
       "      <td>183</td>\n",
       "      <td>0</td>\n",
       "      <td>1</td>\n",
       "      <td>-1</td>\n",
       "      <td>1</td>\n",
       "      <td>0</td>\n",
       "      <td>0.0</td>\n",
       "      <td>0</td>\n",
       "      <td>...</td>\n",
       "      <td>1</td>\n",
       "      <td>0</td>\n",
       "      <td>0</td>\n",
       "      <td>1</td>\n",
       "      <td>0</td>\n",
       "      <td>0</td>\n",
       "      <td>1</td>\n",
       "      <td>0</td>\n",
       "      <td>0</td>\n",
       "      <td>1</td>\n",
       "    </tr>\n",
       "    <tr>\n",
       "      <th>3</th>\n",
       "      <td>60</td>\n",
       "      <td>675.83</td>\n",
       "      <td>267</td>\n",
       "      <td>1</td>\n",
       "      <td>0</td>\n",
       "      <td>1</td>\n",
       "      <td>0</td>\n",
       "      <td>0</td>\n",
       "      <td>0.0</td>\n",
       "      <td>0</td>\n",
       "      <td>...</td>\n",
       "      <td>1</td>\n",
       "      <td>0</td>\n",
       "      <td>1</td>\n",
       "      <td>0</td>\n",
       "      <td>0</td>\n",
       "      <td>0</td>\n",
       "      <td>1</td>\n",
       "      <td>0</td>\n",
       "      <td>0</td>\n",
       "      <td>1</td>\n",
       "    </tr>\n",
       "    <tr>\n",
       "      <th>4</th>\n",
       "      <td>45</td>\n",
       "      <td>45.34</td>\n",
       "      <td>41</td>\n",
       "      <td>1</td>\n",
       "      <td>0</td>\n",
       "      <td>-1</td>\n",
       "      <td>0</td>\n",
       "      <td>0</td>\n",
       "      <td>0.0</td>\n",
       "      <td>0</td>\n",
       "      <td>...</td>\n",
       "      <td>0</td>\n",
       "      <td>1</td>\n",
       "      <td>0</td>\n",
       "      <td>0</td>\n",
       "      <td>1</td>\n",
       "      <td>1</td>\n",
       "      <td>0</td>\n",
       "      <td>0</td>\n",
       "      <td>0</td>\n",
       "      <td>1</td>\n",
       "    </tr>\n",
       "  </tbody>\n",
       "</table>\n",
       "<p>5 rows × 5014 columns</p>\n",
       "</div>"
      ],
      "text/plain": [
       "   age  totalAmountSpend  daysSinceLastPurchase  usedDiscount  usedBOGO  \\\n",
       "0   49            142.44                    282             1         0   \n",
       "1   68            329.08                    162             1         1   \n",
       "2   52            180.65                    183             0         1   \n",
       "3   60            675.83                    267             1         0   \n",
       "4   45             45.34                     41             1         0   \n",
       "\n",
       "   treatment  visit  target  spend  \\\n",
       "0         -1      1       0    0.0   \n",
       "1          0      1       0    0.0   \n",
       "2         -1      1       0    0.0   \n",
       "3          1      0       0    0.0   \n",
       "4         -1      0       0    0.0   \n",
       "\n",
       "   clientID_000fc343-6b4c-49b3-9b4a-27cc6cf0335c  ...  gender_Female  \\\n",
       "0                                              0  ...              0   \n",
       "1                                              0  ...              1   \n",
       "2                                              0  ...              1   \n",
       "3                                              0  ...              1   \n",
       "4                                              0  ...              0   \n",
       "\n",
       "   gender_Male  zipCodeCat_Rural  zipCodeCat_Surburban  zipCodeCat_Urban  \\\n",
       "0            1                 0                     1                 0   \n",
       "1            0                 1                     0                 0   \n",
       "2            0                 0                     1                 0   \n",
       "3            0                 1                     0                 0   \n",
       "4            1                 0                     0                 1   \n",
       "\n",
       "   isReferral_No  isReferral_Yes  salesChannel_Multichannel  \\\n",
       "0              1               0                          0   \n",
       "1              0               1                          0   \n",
       "2              0               1                          0   \n",
       "3              0               1                          0   \n",
       "4              1               0                          0   \n",
       "\n",
       "   salesChannel_Phone  salesChannel_Web  \n",
       "0                   1                 0  \n",
       "1                   0                 1  \n",
       "2                   0                 1  \n",
       "3                   0                 1  \n",
       "4                   0                 1  \n",
       "\n",
       "[5 rows x 5014 columns]"
      ]
     },
     "execution_count": 17,
     "metadata": {},
     "output_type": "execute_result"
    }
   ],
   "source": [
    "df_model = pd.get_dummies(df_model)\n",
    "df_model.head()"
   ]
  },
  {
   "cell_type": "code",
   "execution_count": 18,
   "metadata": {},
   "outputs": [
    {
     "data": {
      "text/plain": [
       "age                           52.169200\n",
       "totalAmountSpend             243.583603\n",
       "daysSinceLastPurchase        160.717200\n",
       "usedDiscount                   0.557200\n",
       "usedBOGO                       0.548800\n",
       "                                ...    \n",
       "isReferral_No                  0.496400\n",
       "isReferral_Yes                 0.503600\n",
       "salesChannel_Multichannel      0.118000\n",
       "salesChannel_Phone             0.440400\n",
       "salesChannel_Web               0.441600\n",
       "Length: 5014, dtype: float64"
      ]
     },
     "execution_count": 18,
     "metadata": {},
     "output_type": "execute_result"
    }
   ],
   "source": [
    "df_model.mean()"
   ]
  },
  {
   "cell_type": "code",
   "execution_count": 19,
   "metadata": {},
   "outputs": [],
   "source": [
    "df_model_bogo = df_model[df_model.treatment <= 0] # include no offer, bogo\n",
    "df_model_discount = df_model[df_model.treatment >= 0] # include no offer, discount"
   ]
  },
  {
   "cell_type": "code",
   "execution_count": 20,
   "metadata": {},
   "outputs": [],
   "source": [
    "temp_df = df_model_bogo.mean()"
   ]
  },
  {
   "cell_type": "code",
   "execution_count": 21,
   "metadata": {},
   "outputs": [
    {
     "data": {
      "text/html": [
       "<div>\n",
       "<style scoped>\n",
       "    .dataframe tbody tr th:only-of-type {\n",
       "        vertical-align: middle;\n",
       "    }\n",
       "\n",
       "    .dataframe tbody tr th {\n",
       "        vertical-align: top;\n",
       "    }\n",
       "\n",
       "    .dataframe thead th {\n",
       "        text-align: right;\n",
       "    }\n",
       "</style>\n",
       "<table border=\"1\" class=\"dataframe\">\n",
       "  <thead>\n",
       "    <tr style=\"text-align: right;\">\n",
       "      <th></th>\n",
       "      <th>mean</th>\n",
       "    </tr>\n",
       "    <tr>\n",
       "      <th>target</th>\n",
       "      <th></th>\n",
       "    </tr>\n",
       "  </thead>\n",
       "  <tbody>\n",
       "    <tr>\n",
       "      <th>0</th>\n",
       "      <td>59.214384</td>\n",
       "    </tr>\n",
       "    <tr>\n",
       "      <th>1</th>\n",
       "      <td>30.141876</td>\n",
       "    </tr>\n",
       "  </tbody>\n",
       "</table>\n",
       "</div>"
      ],
      "text/plain": [
       "             mean\n",
       "target           \n",
       "0       59.214384\n",
       "1       30.141876"
      ]
     },
     "execution_count": 21,
     "metadata": {},
     "output_type": "execute_result"
    }
   ],
   "source": [
    "pd.DataFrame({\"mean\":df_model_bogo.groupby(\"target\")['age'].mean()})"
   ]
  },
  {
   "cell_type": "code",
   "execution_count": 22,
   "metadata": {},
   "outputs": [],
   "source": [
    "import matplotlib as mpl\n",
    "\n",
    "def target_summary(dataframe, target, numerical_col,plot=True):\n",
    "    mpl.rcParams['figure.dpi'] = 75 ## <===== for see figures in small size in vs code. Since i used vs code for coding.\n",
    "    data=pd.DataFrame({\"mean\":dataframe.groupby(target)[numerical_col].mean()})\n",
    "    print(data,end=\"\\n\\n\\n\\n\")\n",
    "    if plot:\n",
    "        colors = [\"#202240\",\"#F5801A\"]\n",
    "        plt.figure(figsize=(5, 5))\n",
    "        ax = sns.barplot(x='target', y='mean', hue='target', data=data, width=0.3,palette=colors)\n",
    "        ax.spines[['top', 'right']].set_visible(False)\n",
    "        sns.move_legend(ax, bbox_to_anchor=(1, 0.5), loc='center left', frameon=False)\n",
    "        ax.set(ylabel =numerical_col+\" average\", title =numerical_col)\n",
    "        plt.show() "
   ]
  },
  {
   "cell_type": "code",
   "execution_count": 23,
   "metadata": {},
   "outputs": [
    {
     "name": "stdout",
     "output_type": "stream",
     "text": [
      "             mean\n",
      "target           \n",
      "0       59.214384\n",
      "1       30.141876\n",
      "\n",
      "\n",
      "\n"
     ]
    },
    {
     "data": {
      "image/png": "[encoded data removed]",
      "text/plain": [
       "<Figure size 375x375 with 1 Axes>"
      ]
     },
     "metadata": {},
     "output_type": "display_data"
    },
    {
     "name": "stdout",
     "output_type": "stream",
     "text": [
      "              mean\n",
      "target            \n",
      "0       241.640597\n",
      "1       278.275586\n",
      "\n",
      "\n",
      "\n"
     ]
    },
    {
     "data": {
      "image/png": "[encoded data removed]",
      "text/plain": [
       "<Figure size 375x375 with 1 Axes>"
      ]
     },
     "metadata": {},
     "output_type": "display_data"
    },
    {
     "name": "stdout",
     "output_type": "stream",
     "text": [
      "              mean\n",
      "target            \n",
      "0       163.497603\n",
      "1       135.048055\n",
      "\n",
      "\n",
      "\n"
     ]
    },
    {
     "data": {
      "image/png": "[encoded data removed]",
      "text/plain": [
       "<Figure size 375x375 with 1 Axes>"
      ]
     },
     "metadata": {},
     "output_type": "display_data"
    },
    {
     "name": "stdout",
     "output_type": "stream",
     "text": [
      "            mean\n",
      "target          \n",
      "0       0.556507\n",
      "1       0.528604\n",
      "\n",
      "\n",
      "\n"
     ]
    },
    {
     "data": {
      "image/png": "[encoded data removed]",
      "text/plain": [
       "<Figure size 375x375 with 1 Axes>"
      ]
     },
     "metadata": {},
     "output_type": "display_data"
    },
    {
     "name": "stdout",
     "output_type": "stream",
     "text": [
      "            mean\n",
      "target          \n",
      "0       0.537671\n",
      "1       0.622426\n",
      "\n",
      "\n",
      "\n"
     ]
    },
    {
     "data": {
      "image/png": "[encoded data removed]",
      "text/plain": [
       "<Figure size 375x375 with 1 Axes>"
      ]
     },
     "metadata": {},
     "output_type": "display_data"
    },
    {
     "name": "stdout",
     "output_type": "stream",
     "text": [
      "            mean\n",
      "target          \n",
      "0      -0.494178\n",
      "1      -0.581236\n",
      "\n",
      "\n",
      "\n"
     ]
    },
    {
     "data": {
      "image/png": "[encoded data removed]",
      "text/plain": [
       "<Figure size 375x375 with 1 Axes>"
      ]
     },
     "metadata": {},
     "output_type": "display_data"
    },
    {
     "name": "stdout",
     "output_type": "stream",
     "text": [
      "            mean\n",
      "target          \n",
      "0       0.505137\n",
      "1       1.000000\n",
      "\n",
      "\n",
      "\n"
     ]
    },
    {
     "data": {
      "image/png": "[encoded data removed]",
      "text/plain": [
       "<Figure size 375x375 with 1 Axes>"
      ]
     },
     "metadata": {},
     "output_type": "display_data"
    },
    {
     "name": "stdout",
     "output_type": "stream",
     "text": [
      "             mean\n",
      "target           \n",
      "0        0.000000\n",
      "1       14.222677\n",
      "\n",
      "\n",
      "\n"
     ]
    },
    {
     "data": {
      "image/png": "[encoded data removed]",
      "text/plain": [
       "<Figure size 375x375 with 1 Axes>"
      ]
     },
     "metadata": {},
     "output_type": "display_data"
    }
   ],
   "source": [
    "cols = ['age',\t'totalAmountSpend'\t, 'daysSinceLastPurchase',\t'usedDiscount', 'usedBOGO', 'treatment', 'visit', 'spend']\n",
    "for col in cols:\n",
    "    target_summary(df_model_bogo,\"target\",col,plot=True)"
   ]
  },
  {
   "cell_type": "markdown",
   "metadata": {},
   "source": [
    "# Declaring target class"
   ]
  },
  {
   "cell_type": "code",
   "execution_count": 24,
   "metadata": {},
   "outputs": [],
   "source": [
    "def declare_tc(df:pd.DataFrame):\n",
    "    df['target_class'] = 0 # CN\n",
    "    df.loc[(df.treatment == 0) & (df.target != 0),'target_class'] = 1 # CR\n",
    "    df.loc[(df.treatment != 0) & (df.target == 0),'target_class'] = 2 # TN\n",
    "    df.loc[(df.treatment != 0) & (df.target != 0),'target_class'] = 3 # TR\n",
    "    return df"
   ]
  },
  {
   "cell_type": "code",
   "execution_count": 25,
   "metadata": {},
   "outputs": [
    {
     "name": "stderr",
     "output_type": "stream",
     "text": [
      "/var/folders/v0/j1t93gnd49n6rh85bd5wpq8h0000gn/T/ipykernel_5360/1746252929.py:2: SettingWithCopyWarning: \n",
      "A value is trying to be set on a copy of a slice from a DataFrame.\n",
      "Try using .loc[row_indexer,col_indexer] = value instead\n",
      "\n",
      "See the caveats in the documentation: https://pandas.pydata.org/pandas-docs/stable/user_guide/indexing.html#returning-a-view-versus-a-copy\n",
      "  df['target_class'] = 0 # CN\n",
      "/Users/chiransiriwardena/miniconda3/envs/test1/lib/python3.11/site-packages/pandas/core/indexing.py:1817: SettingWithCopyWarning: \n",
      "A value is trying to be set on a copy of a slice from a DataFrame.\n",
      "Try using .loc[row_indexer,col_indexer] = value instead\n",
      "\n",
      "See the caveats in the documentation: https://pandas.pydata.org/pandas-docs/stable/user_guide/indexing.html#returning-a-view-versus-a-copy\n",
      "  self._setitem_single_column(loc, value, pi)\n"
     ]
    }
   ],
   "source": [
    "df_model_bogo = declare_tc(df_model_bogo)\n",
    "df_model_discount = declare_tc(df_model_discount)"
   ]
  },
  {
   "cell_type": "code",
   "execution_count": 26,
   "metadata": {},
   "outputs": [
    {
     "data": {
      "text/plain": [
       "0    1477\n",
       "2    1443\n",
       "3     254\n",
       "1     183\n",
       "Name: target_class, dtype: int64"
      ]
     },
     "execution_count": 26,
     "metadata": {},
     "output_type": "execute_result"
    }
   ],
   "source": [
    "df_model_bogo['target_class'].value_counts()"
   ]
  },
  {
   "cell_type": "markdown",
   "metadata": {},
   "source": [
    "# Modeling (Uplift)"
   ]
  },
  {
   "cell_type": "code",
   "execution_count": 27,
   "metadata": {},
   "outputs": [],
   "source": [
    "\n",
    "from sklearn.model_selection import train_test_split\n",
    "import xgboost as xgb\n",
    "def uplift_split(df_model:pd.DataFrame):\n",
    "    ## Train-Test Split\n",
    "    X = df_model.drop(['target','target_class'],axis=1)\n",
    "    y = df_model.target_class\n",
    "    X_train, X_test, y_train, y_test  = train_test_split(X, y,\n",
    "                                       test_size=0.3,\n",
    "                                       random_state=42,\n",
    "                                       stratify=df_model['treatment'])\n",
    "    return X_train,X_test, y_train, y_test\n",
    "\n",
    "\n",
    "def uplift_model(X_train:pd.DataFrame,\n",
    "                 X_test:pd.DataFrame,\n",
    "                 y_train:pd.DataFrame,\n",
    "                 y_test:pd.DataFrame):\n",
    "    \n",
    "    # Create new dataframe\n",
    "    result = pd.DataFrame(X_test).copy()    \n",
    "    # Fit the model ( Use XGBoost)\n",
    "    uplift_model = xgb.XGBClassifier().fit(X_train.drop('treatment', axis=1), y_train)\n",
    "    X_train = X_train.drop('treatment', axis=1)\n",
    "    \n",
    "    importances = uplift_model.feature_importances_\n",
    "    # Predict data\n",
    "    uplift_proba = uplift_model.predict_proba(X_test.drop('treatment', axis=1))\n",
    "    result['proba_CN'] = uplift_proba[:,0] \n",
    "    result['proba_CR'] = uplift_proba[:,1] \n",
    "    result['proba_TN'] = uplift_proba[:,2] \n",
    "    result['proba_TR'] = uplift_proba[:,3]\n",
    "    result['uplift_score'] = result.eval('proba_CN/(proba_CN+proba_CR) + proba_TR/(proba_TN+proba_TR) - proba_TN/(proba_TN+proba_TR) - proba_CR/(proba_CN+proba_CR)')  \n",
    "    # add result\n",
    "    result['target_class'] = y_test\n",
    "    return result, importances, X_train\n",
    "\n",
    "\n",
    "def uplift(df_model:pd.DataFrame):\n",
    "    X_train, X_test, y_train, y_test = uplift_split(df_model)\n",
    "    result, importances,X_train = uplift_model(X_train, X_test, y_train, y_test)\n",
    "    return result,importances,X_train"
   ]
  },
  {
   "cell_type": "code",
   "execution_count": 28,
   "metadata": {},
   "outputs": [],
   "source": [
    "# Run the uplift function\n",
    "bogo_uplift,importances,X_train = uplift(df_model_bogo)\n",
    "discount_uplift, importances,X_train = uplift(df_model_discount)"
   ]
  },
  {
   "cell_type": "code",
   "execution_count": 29,
   "metadata": {},
   "outputs": [
    {
     "data": {
      "text/html": [
       "<div>\n",
       "<style scoped>\n",
       "    .dataframe tbody tr th:only-of-type {\n",
       "        vertical-align: middle;\n",
       "    }\n",
       "\n",
       "    .dataframe tbody tr th {\n",
       "        vertical-align: top;\n",
       "    }\n",
       "\n",
       "    .dataframe thead th {\n",
       "        text-align: right;\n",
       "    }\n",
       "</style>\n",
       "<table border=\"1\" class=\"dataframe\">\n",
       "  <thead>\n",
       "    <tr style=\"text-align: right;\">\n",
       "      <th></th>\n",
       "      <th>age</th>\n",
       "      <th>totalAmountSpend</th>\n",
       "      <th>daysSinceLastPurchase</th>\n",
       "      <th>usedDiscount</th>\n",
       "      <th>usedBOGO</th>\n",
       "      <th>treatment</th>\n",
       "      <th>visit</th>\n",
       "      <th>spend</th>\n",
       "      <th>clientID_000fc343-6b4c-49b3-9b4a-27cc6cf0335c</th>\n",
       "      <th>clientID_00183ee7-6046-4558-b614-2634acc31201</th>\n",
       "      <th>...</th>\n",
       "      <th>isReferral_Yes</th>\n",
       "      <th>salesChannel_Multichannel</th>\n",
       "      <th>salesChannel_Phone</th>\n",
       "      <th>salesChannel_Web</th>\n",
       "      <th>proba_CN</th>\n",
       "      <th>proba_CR</th>\n",
       "      <th>proba_TN</th>\n",
       "      <th>proba_TR</th>\n",
       "      <th>uplift_score</th>\n",
       "      <th>target_class</th>\n",
       "    </tr>\n",
       "  </thead>\n",
       "  <tbody>\n",
       "    <tr>\n",
       "      <th>4229</th>\n",
       "      <td>46</td>\n",
       "      <td>176.41</td>\n",
       "      <td>164</td>\n",
       "      <td>1</td>\n",
       "      <td>0</td>\n",
       "      <td>0</td>\n",
       "      <td>1</td>\n",
       "      <td>8.84</td>\n",
       "      <td>0</td>\n",
       "      <td>0</td>\n",
       "      <td>...</td>\n",
       "      <td>0</td>\n",
       "      <td>0</td>\n",
       "      <td>0</td>\n",
       "      <td>1</td>\n",
       "      <td>0.000164</td>\n",
       "      <td>0.998830</td>\n",
       "      <td>0.000473</td>\n",
       "      <td>0.000533</td>\n",
       "      <td>-0.940352</td>\n",
       "      <td>1</td>\n",
       "    </tr>\n",
       "    <tr>\n",
       "      <th>476</th>\n",
       "      <td>38</td>\n",
       "      <td>114.74</td>\n",
       "      <td>153</td>\n",
       "      <td>1</td>\n",
       "      <td>0</td>\n",
       "      <td>0</td>\n",
       "      <td>1</td>\n",
       "      <td>5.00</td>\n",
       "      <td>0</td>\n",
       "      <td>0</td>\n",
       "      <td>...</td>\n",
       "      <td>0</td>\n",
       "      <td>0</td>\n",
       "      <td>0</td>\n",
       "      <td>1</td>\n",
       "      <td>0.001723</td>\n",
       "      <td>0.995842</td>\n",
       "      <td>0.001782</td>\n",
       "      <td>0.000653</td>\n",
       "      <td>-1.460260</td>\n",
       "      <td>1</td>\n",
       "    </tr>\n",
       "    <tr>\n",
       "      <th>1686</th>\n",
       "      <td>42</td>\n",
       "      <td>171.20</td>\n",
       "      <td>15</td>\n",
       "      <td>0</td>\n",
       "      <td>1</td>\n",
       "      <td>-1</td>\n",
       "      <td>1</td>\n",
       "      <td>0.00</td>\n",
       "      <td>0</td>\n",
       "      <td>0</td>\n",
       "      <td>...</td>\n",
       "      <td>0</td>\n",
       "      <td>0</td>\n",
       "      <td>0</td>\n",
       "      <td>1</td>\n",
       "      <td>0.000489</td>\n",
       "      <td>0.000317</td>\n",
       "      <td>0.998986</td>\n",
       "      <td>0.000208</td>\n",
       "      <td>-0.785325</td>\n",
       "      <td>2</td>\n",
       "    </tr>\n",
       "    <tr>\n",
       "      <th>3337</th>\n",
       "      <td>68</td>\n",
       "      <td>53.56</td>\n",
       "      <td>173</td>\n",
       "      <td>0</td>\n",
       "      <td>1</td>\n",
       "      <td>0</td>\n",
       "      <td>1</td>\n",
       "      <td>0.00</td>\n",
       "      <td>0</td>\n",
       "      <td>0</td>\n",
       "      <td>...</td>\n",
       "      <td>0</td>\n",
       "      <td>0</td>\n",
       "      <td>0</td>\n",
       "      <td>1</td>\n",
       "      <td>0.999495</td>\n",
       "      <td>0.000075</td>\n",
       "      <td>0.000250</td>\n",
       "      <td>0.000179</td>\n",
       "      <td>0.835222</td>\n",
       "      <td>0</td>\n",
       "    </tr>\n",
       "    <tr>\n",
       "      <th>2</th>\n",
       "      <td>52</td>\n",
       "      <td>180.65</td>\n",
       "      <td>183</td>\n",
       "      <td>0</td>\n",
       "      <td>1</td>\n",
       "      <td>-1</td>\n",
       "      <td>1</td>\n",
       "      <td>0.00</td>\n",
       "      <td>0</td>\n",
       "      <td>0</td>\n",
       "      <td>...</td>\n",
       "      <td>1</td>\n",
       "      <td>0</td>\n",
       "      <td>0</td>\n",
       "      <td>1</td>\n",
       "      <td>0.000208</td>\n",
       "      <td>0.000066</td>\n",
       "      <td>0.999559</td>\n",
       "      <td>0.000167</td>\n",
       "      <td>-0.481366</td>\n",
       "      <td>2</td>\n",
       "    </tr>\n",
       "  </tbody>\n",
       "</table>\n",
       "<p>5 rows × 5019 columns</p>\n",
       "</div>"
      ],
      "text/plain": [
       "      age  totalAmountSpend  daysSinceLastPurchase  usedDiscount  usedBOGO  \\\n",
       "4229   46            176.41                    164             1         0   \n",
       "476    38            114.74                    153             1         0   \n",
       "1686   42            171.20                     15             0         1   \n",
       "3337   68             53.56                    173             0         1   \n",
       "2      52            180.65                    183             0         1   \n",
       "\n",
       "      treatment  visit  spend  clientID_000fc343-6b4c-49b3-9b4a-27cc6cf0335c  \\\n",
       "4229          0      1   8.84                                              0   \n",
       "476           0      1   5.00                                              0   \n",
       "1686         -1      1   0.00                                              0   \n",
       "3337          0      1   0.00                                              0   \n",
       "2            -1      1   0.00                                              0   \n",
       "\n",
       "      clientID_00183ee7-6046-4558-b614-2634acc31201  ...  isReferral_Yes  \\\n",
       "4229                                              0  ...               0   \n",
       "476                                               0  ...               0   \n",
       "1686                                              0  ...               0   \n",
       "3337                                              0  ...               0   \n",
       "2                                                 0  ...               1   \n",
       "\n",
       "      salesChannel_Multichannel  salesChannel_Phone  salesChannel_Web  \\\n",
       "4229                          0                   0                 1   \n",
       "476                           0                   0                 1   \n",
       "1686                          0                   0                 1   \n",
       "3337                          0                   0                 1   \n",
       "2                             0                   0                 1   \n",
       "\n",
       "      proba_CN  proba_CR  proba_TN  proba_TR  uplift_score  target_class  \n",
       "4229  0.000164  0.998830  0.000473  0.000533     -0.940352             1  \n",
       "476   0.001723  0.995842  0.001782  0.000653     -1.460260             1  \n",
       "1686  0.000489  0.000317  0.998986  0.000208     -0.785325             2  \n",
       "3337  0.999495  0.000075  0.000250  0.000179      0.835222             0  \n",
       "2     0.000208  0.000066  0.999559  0.000167     -0.481366             2  \n",
       "\n",
       "[5 rows x 5019 columns]"
      ]
     },
     "execution_count": 29,
     "metadata": {},
     "output_type": "execute_result"
    }
   ],
   "source": [
    "bogo_uplift.head()"
   ]
  },
  {
   "cell_type": "markdown",
   "metadata": {},
   "source": [
    "# Plotting feature importance"
   ]
  },
  {
   "cell_type": "code",
   "execution_count": 30,
   "metadata": {},
   "outputs": [
    {
     "name": "stdout",
     "output_type": "stream",
     "text": [
      "[7.9491019e-01 2.6829825e-03 3.9263060e-03 ... 0.0000000e+00 3.4867637e-03\n",
      " 4.4665352e-04]\n"
     ]
    },
    {
     "data": {
      "image/png": "[encoded data removed]",
      "text/plain": [
       "<Figure size 480x360 with 1 Axes>"
      ]
     },
     "metadata": {},
     "output_type": "display_data"
    }
   ],
   "source": [
    "print(importances)\n",
    "\n",
    "# since some features importance are very small, they have ignored\n",
    "#plotting log scale\n",
    "data = [importances[0], importances[1], importances[2], importances[3],importances[4], importances[5], importances[6]]\n",
    "y = np.arange(len(data))\n",
    "fig, ax = plt.subplots()\n",
    "ax.barh(y,data)\n",
    "ax.xaxis.grid()\n",
    "ax.set_yticks(y)\n",
    "ax.set_yticklabels(['age', 'totalAmountSpend', 'daysSinceLastPurchase', 'usedDiscount', 'usedBOGO', 'visit', 'spend'])\n",
    "\n",
    "for i in range(len(data)):\n",
    "    ax.text(data[i], y[i]-0.1, f'{int(data[i])}', rotation=90)\n",
    "\n",
    "ax.set_xscale('log')"
   ]
  },
  {
   "cell_type": "markdown",
   "metadata": {},
   "source": [
    "# Segmentation"
   ]
  },
  {
   "cell_type": "code",
   "execution_count": 31,
   "metadata": {},
   "outputs": [
    {
     "name": "stderr",
     "output_type": "stream",
     "text": [
      "/var/folders/v0/j1t93gnd49n6rh85bd5wpq8h0000gn/T/ipykernel_5360/286725937.py:3: SettingWithCopyWarning: \n",
      "A value is trying to be set on a copy of a slice from a DataFrame\n",
      "\n",
      "See the caveats in the documentation: https://pandas.pydata.org/pandas-docs/stable/user_guide/indexing.html#returning-a-view-versus-a-copy\n",
      "  seg_df['target'][seg_df.treatment != 'No Offer'] = 1\n"
     ]
    }
   ],
   "source": [
    "seg_df = df_data.merge(bogo_uplift.iloc[:,-6:], left_index=True, right_index=True)\n",
    "seg_df['target'] = 0\n",
    "seg_df['target'][seg_df.treatment != 'No Offer'] = 1"
   ]
  },
  {
   "cell_type": "code",
   "execution_count": 32,
   "metadata": {},
   "outputs": [
    {
     "data": {
      "text/html": [
       "<div>\n",
       "<style scoped>\n",
       "    .dataframe tbody tr th:only-of-type {\n",
       "        vertical-align: middle;\n",
       "    }\n",
       "\n",
       "    .dataframe tbody tr th {\n",
       "        vertical-align: top;\n",
       "    }\n",
       "\n",
       "    .dataframe thead th {\n",
       "        text-align: right;\n",
       "    }\n",
       "</style>\n",
       "<table border=\"1\" class=\"dataframe\">\n",
       "  <thead>\n",
       "    <tr style=\"text-align: right;\">\n",
       "      <th></th>\n",
       "      <th>target</th>\n",
       "      <th>uplift_score</th>\n",
       "    </tr>\n",
       "    <tr>\n",
       "      <th>zipCodeCat</th>\n",
       "      <th></th>\n",
       "      <th></th>\n",
       "    </tr>\n",
       "  </thead>\n",
       "  <tbody>\n",
       "    <tr>\n",
       "      <th>Rural</th>\n",
       "      <td>0.521127</td>\n",
       "      <td>-0.149130</td>\n",
       "    </tr>\n",
       "    <tr>\n",
       "      <th>Surburban</th>\n",
       "      <td>0.514477</td>\n",
       "      <td>0.012698</td>\n",
       "    </tr>\n",
       "    <tr>\n",
       "      <th>Urban</th>\n",
       "      <td>0.491566</td>\n",
       "      <td>-0.153443</td>\n",
       "    </tr>\n",
       "  </tbody>\n",
       "</table>\n",
       "</div>"
      ],
      "text/plain": [
       "              target  uplift_score\n",
       "zipCodeCat                        \n",
       "Rural       0.521127     -0.149130\n",
       "Surburban   0.514477      0.012698\n",
       "Urban       0.491566     -0.153443"
      ]
     },
     "execution_count": 32,
     "metadata": {},
     "output_type": "execute_result"
    }
   ],
   "source": [
    "seg_df.groupby('zipCodeCat').mean()[['target','uplift_score']]"
   ]
  },
  {
   "cell_type": "code",
   "execution_count": 33,
   "metadata": {},
   "outputs": [
    {
     "data": {
      "text/html": [
       "<div>\n",
       "<style scoped>\n",
       "    .dataframe tbody tr th:only-of-type {\n",
       "        vertical-align: middle;\n",
       "    }\n",
       "\n",
       "    .dataframe tbody tr th {\n",
       "        vertical-align: top;\n",
       "    }\n",
       "\n",
       "    .dataframe thead th {\n",
       "        text-align: right;\n",
       "    }\n",
       "</style>\n",
       "<table border=\"1\" class=\"dataframe\">\n",
       "  <thead>\n",
       "    <tr style=\"text-align: right;\">\n",
       "      <th></th>\n",
       "      <th>target</th>\n",
       "      <th>uplift_score</th>\n",
       "    </tr>\n",
       "    <tr>\n",
       "      <th>salesChannel</th>\n",
       "      <th></th>\n",
       "      <th></th>\n",
       "    </tr>\n",
       "  </thead>\n",
       "  <tbody>\n",
       "    <tr>\n",
       "      <th>Multichannel</th>\n",
       "      <td>0.566929</td>\n",
       "      <td>-0.118311</td>\n",
       "    </tr>\n",
       "    <tr>\n",
       "      <th>Phone</th>\n",
       "      <td>0.480000</td>\n",
       "      <td>-0.006270</td>\n",
       "    </tr>\n",
       "    <tr>\n",
       "      <th>Web</th>\n",
       "      <td>0.513158</td>\n",
       "      <td>-0.135477</td>\n",
       "    </tr>\n",
       "  </tbody>\n",
       "</table>\n",
       "</div>"
      ],
      "text/plain": [
       "                target  uplift_score\n",
       "salesChannel                        \n",
       "Multichannel  0.566929     -0.118311\n",
       "Phone         0.480000     -0.006270\n",
       "Web           0.513158     -0.135477"
      ]
     },
     "execution_count": 33,
     "metadata": {},
     "output_type": "execute_result"
    }
   ],
   "source": [
    "seg_df.groupby('salesChannel').mean()[['target','uplift_score']]"
   ]
  },
  {
   "cell_type": "code",
   "execution_count": 34,
   "metadata": {},
   "outputs": [
    {
     "data": {
      "text/html": [
       "<div>\n",
       "<style scoped>\n",
       "    .dataframe tbody tr th:only-of-type {\n",
       "        vertical-align: middle;\n",
       "    }\n",
       "\n",
       "    .dataframe tbody tr th {\n",
       "        vertical-align: top;\n",
       "    }\n",
       "\n",
       "    .dataframe thead th {\n",
       "        text-align: right;\n",
       "    }\n",
       "</style>\n",
       "<table border=\"1\" class=\"dataframe\">\n",
       "  <thead>\n",
       "    <tr style=\"text-align: right;\">\n",
       "      <th></th>\n",
       "      <th>target</th>\n",
       "      <th>uplift_score</th>\n",
       "    </tr>\n",
       "    <tr>\n",
       "      <th>usedDiscount</th>\n",
       "      <th></th>\n",
       "      <th></th>\n",
       "    </tr>\n",
       "  </thead>\n",
       "  <tbody>\n",
       "    <tr>\n",
       "      <th>0</th>\n",
       "      <td>0.510297</td>\n",
       "      <td>-0.040700</td>\n",
       "    </tr>\n",
       "    <tr>\n",
       "      <th>1</th>\n",
       "      <td>0.502627</td>\n",
       "      <td>-0.108025</td>\n",
       "    </tr>\n",
       "  </tbody>\n",
       "</table>\n",
       "</div>"
      ],
      "text/plain": [
       "                target  uplift_score\n",
       "usedDiscount                        \n",
       "0             0.510297     -0.040700\n",
       "1             0.502627     -0.108025"
      ]
     },
     "execution_count": 34,
     "metadata": {},
     "output_type": "execute_result"
    }
   ],
   "source": [
    "seg_df.groupby('usedDiscount').mean()[['target','uplift_score']]"
   ]
  },
  {
   "cell_type": "code",
   "execution_count": 35,
   "metadata": {},
   "outputs": [
    {
     "data": {
      "text/html": [
       "<div>\n",
       "<style scoped>\n",
       "    .dataframe tbody tr th:only-of-type {\n",
       "        vertical-align: middle;\n",
       "    }\n",
       "\n",
       "    .dataframe tbody tr th {\n",
       "        vertical-align: top;\n",
       "    }\n",
       "\n",
       "    .dataframe thead th {\n",
       "        text-align: right;\n",
       "    }\n",
       "</style>\n",
       "<table border=\"1\" class=\"dataframe\">\n",
       "  <thead>\n",
       "    <tr style=\"text-align: right;\">\n",
       "      <th></th>\n",
       "      <th>target</th>\n",
       "      <th>uplift_score</th>\n",
       "    </tr>\n",
       "    <tr>\n",
       "      <th>usedBOGO</th>\n",
       "      <th></th>\n",
       "      <th></th>\n",
       "    </tr>\n",
       "  </thead>\n",
       "  <tbody>\n",
       "    <tr>\n",
       "      <th>0</th>\n",
       "      <td>0.500000</td>\n",
       "      <td>-0.107009</td>\n",
       "    </tr>\n",
       "    <tr>\n",
       "      <th>1</th>\n",
       "      <td>0.511111</td>\n",
       "      <td>-0.054421</td>\n",
       "    </tr>\n",
       "  </tbody>\n",
       "</table>\n",
       "</div>"
      ],
      "text/plain": [
       "            target  uplift_score\n",
       "usedBOGO                        \n",
       "0         0.500000     -0.107009\n",
       "1         0.511111     -0.054421"
      ]
     },
     "execution_count": 35,
     "metadata": {},
     "output_type": "execute_result"
    }
   ],
   "source": [
    "seg_df.groupby('usedBOGO').mean()[['target','uplift_score']]"
   ]
  },
  {
   "cell_type": "markdown",
   "metadata": {},
   "source": [
    "# Qini curve"
   ]
  },
  {
   "cell_type": "code",
   "execution_count": 36,
   "metadata": {},
   "outputs": [],
   "source": [
    "# Functions to build the Uplift model and visualize the QINI Curve\n",
    "def qini_rank(uplift:pd.DataFrame):\n",
    "    \"\"\"Rank the data by the uplift score\n",
    "    \"\"\"\n",
    "    # Creat new dataframe\n",
    "    ranked = pd.DataFrame({'n':[], 'target_class':[]})\n",
    "    ranked['target_class'] = uplift['target_class']\n",
    "    ranked['uplift_score'] = uplift['uplift_score']\n",
    "    \n",
    "    \n",
    "    # Add proportion\n",
    "    ranked['n'] = ranked.uplift_score.rank(pct=True, ascending=False)\n",
    "    # Data Ranking   \n",
    "    ranked = ranked.sort_values(by='n').reset_index(drop=True)\n",
    "    return ranked\n",
    "\n",
    "\n",
    "def qini_eval(ranked:pd.DataFrame):\n",
    "    \"\"\"Evaluate the uplift value with the QINI criterion\n",
    "    \"\"\"\n",
    "    uplift_model, random_model = ranked.copy(), ranked.copy()\n",
    "    # Using Treatment and Control Group to calculate the uplift (Incremental gain)\n",
    "    C, T = sum(ranked['target_class'] <= 1), sum(ranked['target_class'] >= 2)\n",
    "    ranked['cr'] = 0\n",
    "    ranked['tr'] = 0\n",
    "    ranked.loc[ranked.target_class == 1,'cr'] = 1\n",
    "    ranked.loc[ranked.target_class == 3,'tr'] = 1\n",
    "    ranked['cr/c'] = ranked.cr.cumsum() / C\n",
    "    ranked['tr/t'] = ranked.tr.cumsum() / T\n",
    "    # Calculate and put the uplift and random value into dataframe\n",
    "    uplift_model['uplift'] = round(ranked['tr/t'] - ranked['cr/c'],5)\n",
    "    random_model['uplift'] = round(ranked['n'] * uplift_model['uplift'].iloc[-1],5)\n",
    "    \n",
    "    \n",
    "    # Add q0\n",
    "    q0 = pd.DataFrame({'n':0, 'uplift':0, 'target_class': None}, index =[0])\n",
    "    uplift_model = pd.concat([q0, uplift_model]).reset_index(drop = True)\n",
    "    random_model = pd.concat([q0, random_model]).reset_index(drop = True)  \n",
    "    # Add model name & concat\n",
    "    uplift_model['model'] = 'Uplift model'\n",
    "    random_model['model'] = 'Random model'\n",
    "    merged = pd.concat([uplift_model, random_model]).sort_values(by='n').reset_index(drop = True)\n",
    "    return merged\n",
    "\n",
    "\n",
    "def qini_plot(merged:pd.DataFrame):\n",
    "    \"\"\"Plot the QINI\n",
    "    \"\"\"\n",
    "    # plot the data\n",
    "    ax = sns.lineplot(x='n', y='uplift', hue='model', data=merged,\n",
    "                      style='model', palette=['red','grey'])\n",
    "    \n",
    "    \n",
    "    # Plot settings\n",
    "    sns.set_style('ticks')\n",
    "    handles, labels = ax.get_legend_handles_labels()\n",
    "    plt.xlabel('Proportion targeted',fontsize=5)\n",
    "    plt.ylabel('Uplift',fontsize=5)\n",
    "    plt.subplots_adjust(right=1)\n",
    "    plt.subplots_adjust(top=1)\n",
    "    plt.legend(fontsize=5)\n",
    "    ax.tick_params(labelsize=5)\n",
    "    ax.legend(handles=handles[1:], labels=labels[1:], loc='upper right')\n",
    "    return ax\n",
    "\n",
    "\n",
    "def qini(uplift:pd.DataFrame):\n",
    "    \"\"\"Combine all functions\n",
    "    \"\"\"\n",
    "    ranked = qini_rank(uplift)\n",
    "    merged = qini_eval(ranked)\n",
    "    ax = qini_plot(merged)\n",
    "    return ax"
   ]
  },
  {
   "cell_type": "code",
   "execution_count": 37,
   "metadata": {},
   "outputs": [
    {
     "data": {
      "text/plain": [
       "Text(0.5, 1.0, 'Qini Curve - Buy One Get One')"
      ]
     },
     "execution_count": 37,
     "metadata": {},
     "output_type": "execute_result"
    },
    {
     "data": {
      "image/png": "[encoded data removed]",
      "text/plain": [
       "<Figure size 480x360 with 1 Axes>"
      ]
     },
     "metadata": {},
     "output_type": "display_data"
    }
   ],
   "source": [
    "qini(bogo_uplift)\n",
    "plt.title('Qini Curve - Buy One Get One',fontsize=20)"
   ]
  },
  {
   "cell_type": "code",
   "execution_count": 38,
   "metadata": {},
   "outputs": [
    {
     "data": {
      "text/plain": [
       "Text(0.5, 1.0, 'Qini Curve - Discount')"
      ]
     },
     "execution_count": 38,
     "metadata": {},
     "output_type": "execute_result"
    },
    {
     "data": {
      "image/png": "[encoded data removed]",
      "text/plain": [
       "<Figure size 480x360 with 1 Axes>"
      ]
     },
     "metadata": {},
     "output_type": "display_data"
    }
   ],
   "source": [
    "# plot the Qini curve for Discount treatment\n",
    "qini(discount_uplift)\n",
    "plt.title('Qini Curve - Discount',fontsize=20)"
   ]
  },
  {
   "cell_type": "code",
   "execution_count": null,
   "metadata": {},
   "outputs": [],
   "source": []
  }
 ],
 "metadata": {
  "kernelspec": {
   "display_name": "test1",
   "language": "python",
   "name": "python3"
  },
  "language_info": {
   "codemirror_mode": {
    "name": "ipython",
    "version": 3
   },
   "file_extension": ".py",
   "mimetype": "text/x-python",
   "name": "python",
   "nbconvert_exporter": "python",
   "pygments_lexer": "ipython3",
   "version": "3.11.5"
  }
 },
 "nbformat": 4,
 "nbformat_minor": 2
}
